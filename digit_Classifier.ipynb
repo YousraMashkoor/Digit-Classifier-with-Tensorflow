{
  "nbformat": 4,
  "nbformat_minor": 0,
  "metadata": {
    "colab": {
      "name": "digit Classifier",
      "provenance": [],
      "authorship_tag": "ABX9TyONmw3iJXQ+Zknpw2MHAPsf"
    },
    "kernelspec": {
      "name": "python3",
      "display_name": "Python 3"
    }
  },
  "cells": [
    {
      "cell_type": "code",
      "metadata": {
        "id": "AZ6UubTj_DQM",
        "colab_type": "code",
        "colab": {
          "base_uri": "https://localhost:8080/",
          "height": 34
        },
        "outputId": "74c1793e-fb8a-430a-a065-ac287b1fe421"
      },
      "source": [
        "print('ali')"
      ],
      "execution_count": 2,
      "outputs": [
        {
          "output_type": "stream",
          "text": [
            "ali\n"
          ],
          "name": "stdout"
        }
      ]
    }
  ]
}